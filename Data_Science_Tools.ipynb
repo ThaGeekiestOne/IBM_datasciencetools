{
  "metadata": {
    "kernelspec": {
      "name": "python",
      "display_name": "Python (Pyodide)",
      "language": "python"
    },
    "language_info": {
      "codemirror_mode": {
        "name": "python",
        "version": 3
      },
      "file_extension": ".py",
      "mimetype": "text/x-python",
      "name": "python",
      "nbconvert_exporter": "python",
      "pygments_lexer": "ipython3",
      "version": "3.8"
    }
  },
  "nbformat_minor": 5,
  "nbformat": 4,
  "cells": [
    {
      "id": "ca7696b3-3cf9-4dd0-bbeb-6a32f2357e01",
      "cell_type": "markdown",
      "source": "#Data science tools",
      "metadata": {}
    },
    {
      "id": "d875b420-2ea7-4f78-8b6c-13494e7b6fc1",
      "cell_type": "markdown",
      "source": "In this notebook, we will explore some of the most commonly used tools, libraries, and languages in the field of data science. It also includes simple arithmetic operations as part of hands-on coding practice.\n",
      "metadata": {}
    },
    {
      "id": "e01309e8-9fff-4354-93f4-6d63615efd4d",
      "cell_type": "markdown",
      "source": "**Some of the popular languages that Data Scientists use are:**\n1. Python  \n2. R  \n3. SQL  ",
      "metadata": {}
    },
    {
      "id": "6b30b036-7161-480f-80c3-769f8e467004",
      "cell_type": "markdown",
      "source": "**Some of the commonly used libraries used by Data Scientists include:**\n- Pandas  \n- NumPy  \n- Matplotlib  \n- Scikit-learn  \n- TensorFlow  \n",
      "metadata": {}
    },
    {
      "id": "5f2efdc9-29d3-4d7c-9d52-ace1487ee823",
      "cell_type": "markdown",
      "source": "| Category           | Tool                   |\n|--------------------|------------------------|\n| Data Analysis      | Pandas, dplyr          |\n| Visualization      | Matplotlib, ggplot2    |\n| Machine Learning   | Scikit-learn,TensorFlow|\n| Big Data Processing| Apache Spark           |\n",
      "metadata": {}
    },
    {
      "id": "1799f437-b009-4ff3-b6f4-0074368f6c8b",
      "cell_type": "markdown",
      "source": "Below are a few examples of evaluating arithmetic expressions in Python.\n",
      "metadata": {}
    },
    {
      "id": "20c6b951-6457-42d1-851b-9d322d5e3ae1",
      "cell_type": "code",
      "source": "# This will multiply then add\n(30 * 67) + 599\n",
      "metadata": {
        "trusted": true
      },
      "outputs": [
        {
          "execution_count": 10,
          "output_type": "execute_result",
          "data": {
            "text/plain": "2609"
          },
          "metadata": {}
        }
      ],
      "execution_count": 10
    },
    {
      "id": "80f61ebb-649f-4f55-b792-b2125e40ddcd",
      "cell_type": "code",
      "source": "# Convert 200 minutes to hours\n200 / 60\n",
      "metadata": {
        "trusted": true
      },
      "outputs": [
        {
          "execution_count": 11,
          "output_type": "execute_result",
          "data": {
            "text/plain": "3.3333333333333335"
          },
          "metadata": {}
        }
      ],
      "execution_count": 11
    },
    {
      "id": "e0b3e587-bf5b-44a5-bcd3-9d5dbb837758",
      "cell_type": "markdown",
      "source": "**Objectives:**\n- List popular languages for Data Science  \n- List commonly used libraries  \n- Perform simple arithmetic using Python  \n- Demonstrate data science tools  \n",
      "metadata": {}
    },
    {
      "id": "aa6ebb9a-f437-47d6-a7f6-4d85c0e94856",
      "cell_type": "markdown",
      "source": "**Author:** Ayush Singh\n",
      "metadata": {}
    },
    {
      "id": "97722278-4beb-4868-bc65-75f124fa5a38",
      "cell_type": "code",
      "source": "",
      "metadata": {
        "trusted": true
      },
      "outputs": [],
      "execution_count": null
    }
  ]
}